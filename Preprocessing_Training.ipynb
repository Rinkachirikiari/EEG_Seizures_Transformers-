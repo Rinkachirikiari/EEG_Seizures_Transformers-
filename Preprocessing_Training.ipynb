{
 "cells": [
  {
   "cell_type": "code",
   "execution_count": 6,
   "metadata": {},
   "outputs": [],
   "source": [
    "import numpy\n",
    "import torch\n",
    "import mne\n",
    "import matplotlib\n",
    "import os "
   ]
  },
  {
   "cell_type": "markdown",
   "metadata": {},
   "source": [
    "# Importation & Pre-processing"
   ]
  },
  {
   "cell_type": "code",
   "execution_count": null,
   "metadata": {},
   "outputs": [],
   "source": [
    "import os\n",
    "import mne\n",
    "\n",
    "# Chemin vers le dossier parent\n",
    "dossier_parent = \"./eeg_data\"\n",
    "\n",
    "# Dictionnaire pour stocker les données MNE par sous-dossier\n",
    "donnees_par_sous_dossier = {}\n",
    "\n",
    "# Parcours des sous-dossiers\n",
    "for nom_sous_dossier in os.listdir(dossier_parent):\n",
    "    # Construction du chemin complet du sous-dossier\n",
    "    chemin_sous_dossier = os.path.join(dossier_parent, nom_sous_dossier)\n",
    "    # Vérification si c'est un dossier\n",
    "    if os.path.isdir(chemin_sous_dossier):\n",
    "        # Initialisation de la liste des données MNE pour ce sous-dossier\n",
    "        donnees_par_sous_dossier[nom_sous_dossier] = []\n",
    "        # Parcours des fichiers dans ce sous-dossier\n",
    "        for nom_fichier in os.listdir(chemin_sous_dossier):\n",
    "            # Vérification si c'est un fichier .edf\n",
    "            if nom_fichier.endswith('.edf'):\n",
    "                # Ajout du chemin complet du fichier .edf\n",
    "                chemin_fichier = os.path.join(chemin_sous_dossier, nom_fichier)\n",
    "                # Lecture des données MNE\n",
    "                donnees_mne = mne.io.read_raw_edf(chemin_fichier)\n",
    "                # Stockage des données MNE dans la liste correspondante\n",
    "                donnees_par_sous_dossier[nom_sous_dossier].append(donnees_mne)\n",
    "\n",
    "# Affichage des informations sur les données MNE\n",
    "for nom_sous_dossier, donnees_mne in donnees_par_sous_dossier.items():\n",
    "    print(f\"Sous-dossier {nom_sous_dossier} : {len(donnees_mne)} fichiers .edf\")\n"
   ]
  },
  {
   "cell_type": "markdown",
   "metadata": {},
   "source": [
    "### Temps d'échantillonnage - Nombre d'enregistrements n'ayant pas une durée de 1 heure par sujet "
   ]
  },
  {
   "cell_type": "code",
   "execution_count": 36,
   "metadata": {},
   "outputs": [
    {
     "name": "stdout",
     "output_type": "stream",
     "text": [
      "Sous-dossier chb01 : 3 fichiers\n",
      "Sous-dossier chb02 : 1 fichiers\n",
      "Sous-dossier chb03 : 0 fichiers\n",
      "Sous-dossier chb04 : 0 fichiers\n",
      "Sous-dossier chb05 : 0 fichiers\n",
      "Sous-dossier chb06 : 1 fichiers\n",
      "Sous-dossier chb07 : 0 fichiers\n",
      "Sous-dossier chb08 : 0 fichiers\n",
      "Sous-dossier chb09 : 1 fichiers\n",
      "Sous-dossier chb10 : 0 fichiers\n",
      "Sous-dossier chb11 : 2 fichiers\n",
      "Sous-dossier chb12 : 1 fichiers\n",
      "Sous-dossier chb13 : 0 fichiers\n",
      "Sous-dossier chb14 : 0 fichiers\n",
      "Sous-dossier chb15 : 0 fichiers\n",
      "Sous-dossier chb16 : 0 fichiers\n",
      "Sous-dossier chb17 : 0 fichiers\n",
      "Sous-dossier chb18 : 1 fichiers\n",
      "Sous-dossier chb19 : 1 fichiers\n",
      "Sous-dossier chb20 : 4 fichiers\n",
      "Sous-dossier chb21 : 2 fichiers\n",
      "Sous-dossier chb22 : 0 fichiers\n",
      "Sous-dossier chb23 : 1 fichiers\n",
      "Sous-dossier chb24 : 1 fichiers\n"
     ]
    }
   ],
   "source": [
    "# Dictionnaire pour stocker le nombre de fichiers par sous-dossier\n",
    "nombre_par_sous_dossier = {}\n",
    "\n",
    "# Parcours des sous-dossiers\n",
    "for nom_sous_dossier, donnees_mne_liste in donnees_par_sous_dossier.items():\n",
    "    # Initialisation du compteur pour ce sous-dossier\n",
    "    cpt = 0\n",
    "    # Parcours des données MNE dans ce sous-dossier\n",
    "    for donnees_mne in donnees_mne_liste:\n",
    "        # Vérification si la durée de la donnée MNE est inférieure à la valeur donnée\n",
    "        if donnees_mne.times[-1] < 3599.99609375:\n",
    "            # Incrémentation du compteur\n",
    "            cpt += 1\n",
    "    # Stockage du nombre dans le dictionnaire\n",
    "    nombre_par_sous_dossier[nom_sous_dossier] = cpt\n",
    "\n",
    "# Affichage du nombre de fichiers qui satisfont la condition pour chaque sous-dossier\n",
    "for nom_sous_dossier, nombre in nombre_par_sous_dossier.items():\n",
    "    print(f\"Sous-dossier {nom_sous_dossier} : {nombre} fichiers\")\n"
   ]
  }
 ],
 "metadata": {
  "kernelspec": {
   "display_name": "Python 3",
   "language": "python",
   "name": "python3"
  },
  "language_info": {
   "codemirror_mode": {
    "name": "ipython",
    "version": 3
   },
   "file_extension": ".py",
   "mimetype": "text/x-python",
   "name": "python",
   "nbconvert_exporter": "python",
   "pygments_lexer": "ipython3",
   "version": "3.11.8"
  }
 },
 "nbformat": 4,
 "nbformat_minor": 2
}
