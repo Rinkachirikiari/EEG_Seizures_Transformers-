{
 "nbformat": 4,
 "nbformat_minor": 0,
 "metadata": {
  "colab": {
   "provenance": []
  },
  "kernelspec": {
   "name": "python3",
   "display_name": "Python 3"
  },
  "language_info": {
   "name": "python"
  }
 },
 "cells": [
  {
   "cell_type": "code",
   "source": [
    "#!pip install mne\n",
    "import mne\n",
    "import numpy as np"
   ],
   "metadata": {
    "colab": {
     "base_uri": "https://localhost:8080/"
    },
    "id": "IKaCgdj-Kwrj",
    "outputId": "c93f6e43-ecf7-421f-cacd-30c38210971d"
   },
   "execution_count": 9,
   "outputs": [
    {
     "output_type": "stream",
     "name": "stdout",
     "text": [
      "Collecting mne\n",
      "  Downloading mne-1.6.1-py3-none-any.whl (8.3 MB)\n",
      "\u001B[2K     \u001B[90m━━━━━━━━━━━━━━━━━━━━━━━━━━━━━━━━━━━━━━━━\u001B[0m \u001B[32m8.3/8.3 MB\u001B[0m \u001B[31m40.0 MB/s\u001B[0m eta \u001B[36m0:00:00\u001B[0m\n",
      "\u001B[?25hRequirement already satisfied: numpy>=1.21.2 in /usr/local/lib/python3.10/dist-packages (from mne) (1.25.2)\n",
      "Requirement already satisfied: scipy>=1.7.1 in /usr/local/lib/python3.10/dist-packages (from mne) (1.11.4)\n",
      "Requirement already satisfied: matplotlib>=3.5.0 in /usr/local/lib/python3.10/dist-packages (from mne) (3.7.1)\n",
      "Requirement already satisfied: tqdm in /usr/local/lib/python3.10/dist-packages (from mne) (4.66.2)\n",
      "Requirement already satisfied: pooch>=1.5 in /usr/local/lib/python3.10/dist-packages (from mne) (1.8.1)\n",
      "Requirement already satisfied: decorator in /usr/local/lib/python3.10/dist-packages (from mne) (4.4.2)\n",
      "Requirement already satisfied: packaging in /usr/local/lib/python3.10/dist-packages (from mne) (24.0)\n",
      "Requirement already satisfied: jinja2 in /usr/local/lib/python3.10/dist-packages (from mne) (3.1.3)\n",
      "Requirement already satisfied: lazy-loader>=0.3 in /usr/local/lib/python3.10/dist-packages (from mne) (0.3)\n",
      "Requirement already satisfied: contourpy>=1.0.1 in /usr/local/lib/python3.10/dist-packages (from matplotlib>=3.5.0->mne) (1.2.0)\n",
      "Requirement already satisfied: cycler>=0.10 in /usr/local/lib/python3.10/dist-packages (from matplotlib>=3.5.0->mne) (0.12.1)\n",
      "Requirement already satisfied: fonttools>=4.22.0 in /usr/local/lib/python3.10/dist-packages (from matplotlib>=3.5.0->mne) (4.50.0)\n",
      "Requirement already satisfied: kiwisolver>=1.0.1 in /usr/local/lib/python3.10/dist-packages (from matplotlib>=3.5.0->mne) (1.4.5)\n",
      "Requirement already satisfied: pillow>=6.2.0 in /usr/local/lib/python3.10/dist-packages (from matplotlib>=3.5.0->mne) (9.4.0)\n",
      "Requirement already satisfied: pyparsing>=2.3.1 in /usr/local/lib/python3.10/dist-packages (from matplotlib>=3.5.0->mne) (3.1.2)\n",
      "Requirement already satisfied: python-dateutil>=2.7 in /usr/local/lib/python3.10/dist-packages (from matplotlib>=3.5.0->mne) (2.8.2)\n",
      "Requirement already satisfied: platformdirs>=2.5.0 in /usr/local/lib/python3.10/dist-packages (from pooch>=1.5->mne) (4.2.0)\n",
      "Requirement already satisfied: requests>=2.19.0 in /usr/local/lib/python3.10/dist-packages (from pooch>=1.5->mne) (2.31.0)\n",
      "Requirement already satisfied: MarkupSafe>=2.0 in /usr/local/lib/python3.10/dist-packages (from jinja2->mne) (2.1.5)\n",
      "Requirement already satisfied: six>=1.5 in /usr/local/lib/python3.10/dist-packages (from python-dateutil>=2.7->matplotlib>=3.5.0->mne) (1.16.0)\n",
      "Requirement already satisfied: charset-normalizer<4,>=2 in /usr/local/lib/python3.10/dist-packages (from requests>=2.19.0->pooch>=1.5->mne) (3.3.2)\n",
      "Requirement already satisfied: idna<4,>=2.5 in /usr/local/lib/python3.10/dist-packages (from requests>=2.19.0->pooch>=1.5->mne) (3.6)\n",
      "Requirement already satisfied: urllib3<3,>=1.21.1 in /usr/local/lib/python3.10/dist-packages (from requests>=2.19.0->pooch>=1.5->mne) (2.0.7)\n",
      "Requirement already satisfied: certifi>=2017.4.17 in /usr/local/lib/python3.10/dist-packages (from requests>=2.19.0->pooch>=1.5->mne) (2024.2.2)\n",
      "Installing collected packages: mne\n",
      "Successfully installed mne-1.6.1\n"
     ]
    }
   ]
  },
  {
   "cell_type": "code",
   "source": [
    "def read_summary(file_path):\n",
    "    # Initialisation des listes pour stocker les informations\n",
    "    seizure_presence = {}\n",
    "    \n",
    "    # Chemin d'accès au fichier\n",
    "    #file_path = \"chb04-summary.txt\"\n",
    "    \n",
    "    # Ouvrir et lire le fichier\n",
    "    is_seizure = False\n",
    "    all_files_str = []\n",
    "    seizure_start = 0\n",
    "    with open(file_path, \"r\") as file:\n",
    "        # Lire chaque ligne du fichier\n",
    "        for line in file:\n",
    "            # Traiter la ligne actuelle\n",
    "            if line.strip():\n",
    "                if \"File Name:\" in line:\n",
    "                  start = len(\"File Name: \")\n",
    "                  all_files_str.append(str(line[start:len(line)-1]))\n",
    "                elif (\"Seizure\" in line) and (\"Start Time: \" in line):\n",
    "                  if line[len(\"Seizure S\")-1] == \"S\":\n",
    "                    start = len(\"Seizure Start Time: \")\n",
    "                  else:\n",
    "                    start = len(\"Seizure 1 Start Time: \")\n",
    "                  end = len(\" seconds\")+1\n",
    "                  seizure_start = int(line[start:len(line)-end])\n",
    "                elif (\"Seizure\"in line) and (\"End Time: \" in line):\n",
    "                  if line[len(\"Seizure E\")-1] == \"E\":\n",
    "                    start = len(\"Seizure End Time: \")\n",
    "                  else:\n",
    "                    start = len(\"Seizure 1 End Time: \")\n",
    "                  end = len(\" seconds\")+1\n",
    "                  seizure_end = int(line[start:len(line)-end])\n",
    "                  if not all_files_str[len(all_files_str)-1] in seizure_presence.keys():\n",
    "                    seizure_presence[all_files_str[len(all_files_str)-1]] = []\n",
    "                  seizure_presence[all_files_str[len(all_files_str)-1]].append((seizure_start, seizure_end))\n",
    "    return seizure_presence"
   ],
   "metadata": {
    "colab": {
     "base_uri": "https://localhost:8080/"
    },
    "id": "NgJGzPPsUF-Q",
    "outputId": "8dea8779-39bd-4403-8c6f-e6e565bfc8f6"
   },
   "execution_count": 6,
   "outputs": [
    {
     "output_type": "stream",
     "name": "stdout",
     "text": [
      "['chb04_01.edf', 'chb04_02.edf', 'chb04_03.edf', 'chb04_04.edf', 'chb04_05.edf', 'chb04_06.edf', 'chb04_07.edf', 'chb04_08.edf', 'chb04_09.edf', 'chb04_10.edf', 'chb04_11.edf', 'chb04_12.edf', 'chb04_13.edf', 'chb04_14.edf', 'chb04_15.edf', 'chb04_16.edf', 'chb04_17.edf', 'chb04_18.edf', 'chb04_19.edf', 'chb04_21.edf', 'chb04_22.edf', 'chb04_23.edf', 'chb04_24.edf', 'chb04_25.edf', 'chb04_26.edf', 'chb04_27.edf', 'chb04_28.edf', 'chb04_29.edf', 'chb04_30.edf', 'chb04_31.edf', 'chb04_32.edf', 'chb04_33.edf', 'chb04_34.edf', 'chb04_35.edf', 'chb04_36.edf', 'chb04_37.edf', 'chb04_38.edf', 'chb04_39.edf', 'chb04_40.edf', 'chb04_41.edf', 'chb04_42.edf', 'chb04_43.edf']\n",
      "{'chb04_05.edf': [(7804, 7853)], 'chb04_08.edf': [(6446, 6557)], 'chb04_28.edf': [(1679, 1781), (3782, 3898)]}\n"
     ]
    }
   ]
  },
  {
   "cell_type": "code",
   "source": [
    "def separate_data_intervals(file_str, seizure_presence):\n",
    "  # Durée de chaque intervalle en secondes (5 minutes)\n",
    "  interval_duration = 5 * 60\n",
    "\n",
    "  raw = mne.io.read_raw_edf(file_str)\n",
    "  #data, times = raw[:, :]\n",
    "  total_duration = raw.times[-1] # en secondes\n",
    "\n",
    "  # Nombre total d'intervalle de 10 minutes\n",
    "  num_intervals = int(total_duration / interval_duration)\n",
    "  labels = []\n",
    "  data = []\n",
    "\n",
    "  # Diviser les données en intervalles de 10 minutes\n",
    "  for i in range(num_intervals):\n",
    "      # Calculer le temps de début et de fin de chaque intervalle\n",
    "      start_time = i * interval_duration\n",
    "      end_time = (i + 1) * interval_duration\n",
    "\n",
    "      # Convertir le temps en indice\n",
    "      start_idx = raw.time_as_index(start_time)\n",
    "      end_idx = raw.time_as_index(end_time)\n",
    "\n",
    "      # Extraire les données de l'intervalle\n",
    "      interval_data, interval_times = raw[:, start_idx:end_idx]\n",
    "      data.append(interval_data)\n",
    "      if file_str in seizure_presence.keys():\n",
    "        is_seizure = False\n",
    "        for start_seizure, end_seizure in seizure_presence[file_str]:\n",
    "          if (start_seizure >= start_time and start_seizure <= end_time) or (end_seizure >= start_time and end_seizure <= end_time) or (start_seizure <= start_time and end_seizure >= end_time):\n",
    "            is_seizure = True\n",
    "            break\n",
    "        if is_seizure:\n",
    "          labels.append(1)\n",
    "        else:\n",
    "          labels.append(0)\n",
    "      else:\n",
    "        labels.append(0)\n",
    "  return data, labels"
   ],
   "metadata": {
    "id": "-jfqV1XFP4Nb"
   },
   "execution_count": 7,
   "outputs": []
  },
  {
   "cell_type": "code",
   "source": [
    "def load_data_for_patient(patient):\n",
    "    path = \"C:/Users/loist/Documents/laval/reseau de neurones profond/projet/chb-mit-scalp-eeg-database-1.0.0/chb-mit-scalp-eeg-database-1.0.0/\" + patient + \"/\"\n",
    "    seizure_presence = read_summary(path+patient+\"-summary.txt\")\n",
    "    data = []\n",
    "    labels = []\n",
    "    for file in all_files_str:\n",
    "      interval_data, label = separate_data_intervals(path+file, seizure_presence)\n",
    "      for i in range(len(interval_data)):\n",
    "        data.append(interval_data[i])\n",
    "        labels.append(label[i])\n",
    "    return data, labels"
   ],
   "metadata": {
    "colab": {
     "base_uri": "https://localhost:8080/",
     "height": 567
    },
    "id": "ej3zI8CNjHaM",
    "outputId": "e09ee4ba-10d4-4395-8527-682a530c4652"
   },
   "execution_count": 10,
   "outputs": [
    {
     "output_type": "stream",
     "name": "stdout",
     "text": [
      "Extracting EDF parameters from /content/chb04_01.edf...\n",
      "EDF file detected\n",
      "Setting channel info structure...\n",
      "Creating raw.info structure...\n"
     ]
    },
    {
     "output_type": "stream",
     "name": "stderr",
     "text": [
      "<ipython-input-7-4ff7c529f88d>:5: RuntimeWarning: Channel names are not unique, found duplicates for: {'T8-P8'}. Applying running numbers for duplicates.\n",
      "  raw = mne.io.read_raw_edf(file_str)\n"
     ]
    },
    {
     "output_type": "stream",
     "name": "stdout",
     "text": [
      "Extracting EDF parameters from /content/chb04_02.edf...\n",
      "EDF file detected\n"
     ]
    },
    {
     "output_type": "error",
     "ename": "FileNotFoundError",
     "evalue": "[Errno 2] No such file or directory: '/content/chb04_02.edf'",
     "traceback": [
      "\u001B[0;31m---------------------------------------------------------------------------\u001B[0m",
      "\u001B[0;31mFileNotFoundError\u001B[0m                         Traceback (most recent call last)",
      "\u001B[0;32m<ipython-input-10-3c5f937adfff>\u001B[0m in \u001B[0;36m<cell line: 4>\u001B[0;34m()\u001B[0m\n\u001B[1;32m      3\u001B[0m \u001B[0mtaille\u001B[0m \u001B[0;34m=\u001B[0m \u001B[0;36m0\u001B[0m\u001B[0;34m\u001B[0m\u001B[0;34m\u001B[0m\u001B[0m\n\u001B[1;32m      4\u001B[0m \u001B[0;32mfor\u001B[0m \u001B[0mfile\u001B[0m \u001B[0;32min\u001B[0m \u001B[0mall_files_str\u001B[0m\u001B[0;34m:\u001B[0m\u001B[0;34m\u001B[0m\u001B[0;34m\u001B[0m\u001B[0m\n\u001B[0;32m----> 5\u001B[0;31m   \u001B[0minterval_data\u001B[0m\u001B[0;34m,\u001B[0m \u001B[0mlabel\u001B[0m \u001B[0;34m=\u001B[0m \u001B[0mseperate_data_intervals\u001B[0m\u001B[0;34m(\u001B[0m\u001B[0mfile\u001B[0m\u001B[0;34m,\u001B[0m \u001B[0mseizure_presence\u001B[0m\u001B[0;34m)\u001B[0m\u001B[0;34m\u001B[0m\u001B[0;34m\u001B[0m\u001B[0m\n\u001B[0m\u001B[1;32m      6\u001B[0m   \u001B[0;32mfor\u001B[0m \u001B[0mi\u001B[0m \u001B[0;32min\u001B[0m \u001B[0mrange\u001B[0m\u001B[0;34m(\u001B[0m\u001B[0mlen\u001B[0m\u001B[0;34m(\u001B[0m\u001B[0minterval_data\u001B[0m\u001B[0;34m)\u001B[0m\u001B[0;34m)\u001B[0m\u001B[0;34m:\u001B[0m\u001B[0;34m\u001B[0m\u001B[0;34m\u001B[0m\u001B[0m\n\u001B[1;32m      7\u001B[0m     \u001B[0mdata\u001B[0m\u001B[0;34m.\u001B[0m\u001B[0mappend\u001B[0m\u001B[0;34m(\u001B[0m\u001B[0minterval_data\u001B[0m\u001B[0;34m[\u001B[0m\u001B[0mi\u001B[0m\u001B[0;34m]\u001B[0m\u001B[0;34m)\u001B[0m\u001B[0;34m\u001B[0m\u001B[0;34m\u001B[0m\u001B[0m\n",
      "\u001B[0;32m<ipython-input-7-4ff7c529f88d>\u001B[0m in \u001B[0;36mseperate_data_intervals\u001B[0;34m(file_str, seizure_presence)\u001B[0m\n\u001B[1;32m      3\u001B[0m   \u001B[0minterval_duration\u001B[0m \u001B[0;34m=\u001B[0m \u001B[0;36m5\u001B[0m \u001B[0;34m*\u001B[0m \u001B[0;36m60\u001B[0m\u001B[0;34m\u001B[0m\u001B[0;34m\u001B[0m\u001B[0m\n\u001B[1;32m      4\u001B[0m \u001B[0;34m\u001B[0m\u001B[0m\n\u001B[0;32m----> 5\u001B[0;31m   \u001B[0mraw\u001B[0m \u001B[0;34m=\u001B[0m \u001B[0mmne\u001B[0m\u001B[0;34m.\u001B[0m\u001B[0mio\u001B[0m\u001B[0;34m.\u001B[0m\u001B[0mread_raw_edf\u001B[0m\u001B[0;34m(\u001B[0m\u001B[0mfile_str\u001B[0m\u001B[0;34m)\u001B[0m\u001B[0;34m\u001B[0m\u001B[0;34m\u001B[0m\u001B[0m\n\u001B[0m\u001B[1;32m      6\u001B[0m   \u001B[0mdata\u001B[0m\u001B[0;34m,\u001B[0m \u001B[0mtimes\u001B[0m \u001B[0;34m=\u001B[0m \u001B[0mraw\u001B[0m\u001B[0;34m[\u001B[0m\u001B[0;34m:\u001B[0m\u001B[0;34m,\u001B[0m \u001B[0;34m:\u001B[0m\u001B[0;34m]\u001B[0m\u001B[0;34m\u001B[0m\u001B[0;34m\u001B[0m\u001B[0m\n\u001B[1;32m      7\u001B[0m   \u001B[0mtotal_duration\u001B[0m \u001B[0;34m=\u001B[0m \u001B[0mraw\u001B[0m\u001B[0;34m.\u001B[0m\u001B[0mtimes\u001B[0m\u001B[0;34m[\u001B[0m\u001B[0;34m-\u001B[0m\u001B[0;36m1\u001B[0m\u001B[0;34m]\u001B[0m \u001B[0;31m# en secondes\u001B[0m\u001B[0;34m\u001B[0m\u001B[0;34m\u001B[0m\u001B[0m\n",
      "\u001B[0;32m/usr/local/lib/python3.10/dist-packages/mne/io/edf/edf.py\u001B[0m in \u001B[0;36mread_raw_edf\u001B[0;34m(input_fname, eog, misc, stim_channel, exclude, infer_types, include, preload, units, encoding, verbose)\u001B[0m\n\u001B[1;32m   1673\u001B[0m     \u001B[0;32mif\u001B[0m \u001B[0mext\u001B[0m \u001B[0;34m!=\u001B[0m \u001B[0;34m\"edf\"\u001B[0m\u001B[0;34m:\u001B[0m\u001B[0;34m\u001B[0m\u001B[0;34m\u001B[0m\u001B[0m\n\u001B[1;32m   1674\u001B[0m         \u001B[0;32mraise\u001B[0m \u001B[0mNotImplementedError\u001B[0m\u001B[0;34m(\u001B[0m\u001B[0;34mf\"Only EDF files are supported, got {ext}.\"\u001B[0m\u001B[0;34m)\u001B[0m\u001B[0;34m\u001B[0m\u001B[0;34m\u001B[0m\u001B[0m\n\u001B[0;32m-> 1675\u001B[0;31m     return RawEDF(\n\u001B[0m\u001B[1;32m   1676\u001B[0m         \u001B[0minput_fname\u001B[0m\u001B[0;34m=\u001B[0m\u001B[0minput_fname\u001B[0m\u001B[0;34m,\u001B[0m\u001B[0;34m\u001B[0m\u001B[0;34m\u001B[0m\u001B[0m\n\u001B[1;32m   1677\u001B[0m         \u001B[0meog\u001B[0m\u001B[0;34m=\u001B[0m\u001B[0meog\u001B[0m\u001B[0;34m,\u001B[0m\u001B[0;34m\u001B[0m\u001B[0;34m\u001B[0m\u001B[0m\n",
      "\u001B[0;32m<decorator-gen-298>\u001B[0m in \u001B[0;36m__init__\u001B[0;34m(self, input_fname, eog, misc, stim_channel, exclude, infer_types, preload, include, units, encoding, verbose)\u001B[0m\n",
      "\u001B[0;32m/usr/local/lib/python3.10/dist-packages/mne/io/edf/edf.py\u001B[0m in \u001B[0;36m__init__\u001B[0;34m(self, input_fname, eog, misc, stim_channel, exclude, infer_types, preload, include, units, encoding, verbose)\u001B[0m\n\u001B[1;32m    153\u001B[0m         \u001B[0mlogger\u001B[0m\u001B[0;34m.\u001B[0m\u001B[0minfo\u001B[0m\u001B[0;34m(\u001B[0m\u001B[0;34m\"Extracting EDF parameters from {}...\"\u001B[0m\u001B[0;34m.\u001B[0m\u001B[0mformat\u001B[0m\u001B[0;34m(\u001B[0m\u001B[0minput_fname\u001B[0m\u001B[0;34m)\u001B[0m\u001B[0;34m)\u001B[0m\u001B[0;34m\u001B[0m\u001B[0;34m\u001B[0m\u001B[0m\n\u001B[1;32m    154\u001B[0m         \u001B[0minput_fname\u001B[0m \u001B[0;34m=\u001B[0m \u001B[0mos\u001B[0m\u001B[0;34m.\u001B[0m\u001B[0mpath\u001B[0m\u001B[0;34m.\u001B[0m\u001B[0mabspath\u001B[0m\u001B[0;34m(\u001B[0m\u001B[0minput_fname\u001B[0m\u001B[0;34m)\u001B[0m\u001B[0;34m\u001B[0m\u001B[0;34m\u001B[0m\u001B[0m\n\u001B[0;32m--> 155\u001B[0;31m         info, edf_info, orig_units = _get_info(\n\u001B[0m\u001B[1;32m    156\u001B[0m             \u001B[0minput_fname\u001B[0m\u001B[0;34m,\u001B[0m \u001B[0mstim_channel\u001B[0m\u001B[0;34m,\u001B[0m \u001B[0meog\u001B[0m\u001B[0;34m,\u001B[0m \u001B[0mmisc\u001B[0m\u001B[0;34m,\u001B[0m \u001B[0mexclude\u001B[0m\u001B[0;34m,\u001B[0m \u001B[0minfer_types\u001B[0m\u001B[0;34m,\u001B[0m \u001B[0mpreload\u001B[0m\u001B[0;34m,\u001B[0m \u001B[0minclude\u001B[0m\u001B[0;34m\u001B[0m\u001B[0;34m\u001B[0m\u001B[0m\n\u001B[1;32m    157\u001B[0m         )\n",
      "\u001B[0;32m/usr/local/lib/python3.10/dist-packages/mne/io/edf/edf.py\u001B[0m in \u001B[0;36m_get_info\u001B[0;34m(fname, stim_channel, eog, misc, exclude, infer_types, preload, include)\u001B[0m\n\u001B[1;32m    519\u001B[0m     \u001B[0mmisc\u001B[0m \u001B[0;34m=\u001B[0m \u001B[0mmisc\u001B[0m \u001B[0;32mif\u001B[0m \u001B[0mmisc\u001B[0m \u001B[0;32mis\u001B[0m \u001B[0;32mnot\u001B[0m \u001B[0;32mNone\u001B[0m \u001B[0;32melse\u001B[0m \u001B[0;34m[\u001B[0m\u001B[0;34m]\u001B[0m\u001B[0;34m\u001B[0m\u001B[0;34m\u001B[0m\u001B[0m\n\u001B[1;32m    520\u001B[0m \u001B[0;34m\u001B[0m\u001B[0m\n\u001B[0;32m--> 521\u001B[0;31m     \u001B[0medf_info\u001B[0m\u001B[0;34m,\u001B[0m \u001B[0morig_units\u001B[0m \u001B[0;34m=\u001B[0m \u001B[0m_read_header\u001B[0m\u001B[0;34m(\u001B[0m\u001B[0mfname\u001B[0m\u001B[0;34m,\u001B[0m \u001B[0mexclude\u001B[0m\u001B[0;34m,\u001B[0m \u001B[0minfer_types\u001B[0m\u001B[0;34m,\u001B[0m \u001B[0minclude\u001B[0m\u001B[0;34m)\u001B[0m\u001B[0;34m\u001B[0m\u001B[0;34m\u001B[0m\u001B[0m\n\u001B[0m\u001B[1;32m    522\u001B[0m \u001B[0;34m\u001B[0m\u001B[0m\n\u001B[1;32m    523\u001B[0m     \u001B[0;31m# XXX: `tal_ch_names` to pass to `_check_stim_channel` should be computed\u001B[0m\u001B[0;34m\u001B[0m\u001B[0;34m\u001B[0m\u001B[0m\n",
      "\u001B[0;32m/usr/local/lib/python3.10/dist-packages/mne/io/edf/edf.py\u001B[0m in \u001B[0;36m_read_header\u001B[0;34m(fname, exclude, infer_types, include)\u001B[0m\n\u001B[1;32m    503\u001B[0m     \u001B[0mlogger\u001B[0m\u001B[0;34m.\u001B[0m\u001B[0minfo\u001B[0m\u001B[0;34m(\u001B[0m\u001B[0;34m\"%s file detected\"\u001B[0m \u001B[0;34m%\u001B[0m \u001B[0mext\u001B[0m\u001B[0;34m.\u001B[0m\u001B[0mupper\u001B[0m\u001B[0;34m(\u001B[0m\u001B[0;34m)\u001B[0m\u001B[0;34m)\u001B[0m\u001B[0;34m\u001B[0m\u001B[0;34m\u001B[0m\u001B[0m\n\u001B[1;32m    504\u001B[0m     \u001B[0;32mif\u001B[0m \u001B[0mext\u001B[0m \u001B[0;32min\u001B[0m \u001B[0;34m(\u001B[0m\u001B[0;34m\"bdf\"\u001B[0m\u001B[0;34m,\u001B[0m \u001B[0;34m\"edf\"\u001B[0m\u001B[0;34m)\u001B[0m\u001B[0;34m:\u001B[0m\u001B[0;34m\u001B[0m\u001B[0;34m\u001B[0m\u001B[0m\n\u001B[0;32m--> 505\u001B[0;31m         \u001B[0;32mreturn\u001B[0m \u001B[0m_read_edf_header\u001B[0m\u001B[0;34m(\u001B[0m\u001B[0mfname\u001B[0m\u001B[0;34m,\u001B[0m \u001B[0mexclude\u001B[0m\u001B[0;34m,\u001B[0m \u001B[0minfer_types\u001B[0m\u001B[0;34m,\u001B[0m \u001B[0minclude\u001B[0m\u001B[0;34m)\u001B[0m\u001B[0;34m\u001B[0m\u001B[0;34m\u001B[0m\u001B[0m\n\u001B[0m\u001B[1;32m    506\u001B[0m     \u001B[0;32melif\u001B[0m \u001B[0mext\u001B[0m \u001B[0;34m==\u001B[0m \u001B[0;34m\"gdf\"\u001B[0m\u001B[0;34m:\u001B[0m\u001B[0;34m\u001B[0m\u001B[0;34m\u001B[0m\u001B[0m\n\u001B[1;32m    507\u001B[0m         \u001B[0;32mreturn\u001B[0m \u001B[0m_read_gdf_header\u001B[0m\u001B[0;34m(\u001B[0m\u001B[0mfname\u001B[0m\u001B[0;34m,\u001B[0m \u001B[0mexclude\u001B[0m\u001B[0;34m,\u001B[0m \u001B[0minclude\u001B[0m\u001B[0;34m)\u001B[0m\u001B[0;34m,\u001B[0m \u001B[0;32mNone\u001B[0m\u001B[0;34m\u001B[0m\u001B[0;34m\u001B[0m\u001B[0m\n",
      "\u001B[0;32m/usr/local/lib/python3.10/dist-packages/mne/io/edf/edf.py\u001B[0m in \u001B[0;36m_read_edf_header\u001B[0;34m(fname, exclude, infer_types, include)\u001B[0m\n\u001B[1;32m    794\u001B[0m     \u001B[0medf_info\u001B[0m \u001B[0;34m=\u001B[0m \u001B[0;34m{\u001B[0m\u001B[0;34m\"events\"\u001B[0m\u001B[0;34m:\u001B[0m \u001B[0;34m[\u001B[0m\u001B[0;34m]\u001B[0m\u001B[0;34m}\u001B[0m\u001B[0;34m\u001B[0m\u001B[0;34m\u001B[0m\u001B[0m\n\u001B[1;32m    795\u001B[0m \u001B[0;34m\u001B[0m\u001B[0m\n\u001B[0;32m--> 796\u001B[0;31m     \u001B[0;32mwith\u001B[0m \u001B[0mopen\u001B[0m\u001B[0;34m(\u001B[0m\u001B[0mfname\u001B[0m\u001B[0;34m,\u001B[0m \u001B[0;34m\"rb\"\u001B[0m\u001B[0;34m)\u001B[0m \u001B[0;32mas\u001B[0m \u001B[0mfid\u001B[0m\u001B[0;34m:\u001B[0m\u001B[0;34m\u001B[0m\u001B[0;34m\u001B[0m\u001B[0m\n\u001B[0m\u001B[1;32m    797\u001B[0m         \u001B[0mfid\u001B[0m\u001B[0;34m.\u001B[0m\u001B[0mread\u001B[0m\u001B[0;34m(\u001B[0m\u001B[0;36m8\u001B[0m\u001B[0;34m)\u001B[0m  \u001B[0;31m# version (unused here)\u001B[0m\u001B[0;34m\u001B[0m\u001B[0;34m\u001B[0m\u001B[0m\n\u001B[1;32m    798\u001B[0m \u001B[0;34m\u001B[0m\u001B[0m\n",
      "\u001B[0;31mFileNotFoundError\u001B[0m: [Errno 2] No such file or directory: '/content/chb04_02.edf'"
     ]
    }
   ]
  },
  {
   "cell_type": "code",
   "execution_count": null,
   "outputs": [],
   "source": [
    "data, labels = load_data_for_patient(\"chb23\")"
   ],
   "metadata": {
    "collapsed": false
   }
  },
  {
   "cell_type": "code",
   "execution_count": null,
   "outputs": [],
   "source": [
    "patients = [\"chb01\", \"chb02\", \"chb03\", \"chb04\", \"chb05\", \"chb23\"]\n",
    "def load_all_data():\n",
    "    data = [] \n",
    "    labels = []\n",
    "    for patient in patients:\n",
    "        current_data, current_labels = load_data_for_patients(patient)\n",
    "        data = data + current_data\n",
    "        labels = labels + current_labels\n",
    "    return data, labels"
   ],
   "metadata": {
    "collapsed": false
   }
  },
  {
   "cell_type": "code",
   "source": [
    "print(len(data))\n",
    "print(len(data[0]))\n",
    "print(len(data[0][0]))"
   ],
   "metadata": {
    "colab": {
     "base_uri": "https://localhost:8080/"
    },
    "id": "9L4-x0bbcCOb",
    "outputId": "778ed8a9-b44b-449e-904d-735a376f2e13"
   },
   "execution_count": null,
   "outputs": [
    {
     "output_type": "stream",
     "name": "stdout",
     "text": [
      "790\n",
      "23\n",
      "76800\n"
     ]
    }
   ]
  },
  {
   "cell_type": "code",
   "execution_count": null,
   "outputs": [],
   "source": [
    "data, labels = load_data_for_patient(\"chb23\")\n",
    "print(labels[12])\n",
    "print(labels[13])\n",
    "print(labels[14])"
   ],
   "metadata": {
    "collapsed": false
   }
  }
 ]
}
